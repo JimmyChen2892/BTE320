{
  "nbformat": 4,
  "nbformat_minor": 0,
  "metadata": {
    "colab": {
      "provenance": [],
      "authorship_tag": "ABX9TyO33IOxyLR1RTqL4CqKspN6",
      "include_colab_link": true
    },
    "kernelspec": {
      "name": "python3",
      "display_name": "Python 3"
    },
    "language_info": {
      "name": "python"
    }
  },
  "cells": [
    {
      "cell_type": "markdown",
      "metadata": {
        "id": "view-in-github",
        "colab_type": "text"
      },
      "source": [
        "<a href=\"https://colab.research.google.com/github/JimmyChen2892/BTE320/blob/main/BTE_320_In_Class_Assignment.ipynb\" target=\"_parent\"><img src=\"https://colab.research.google.com/assets/colab-badge.svg\" alt=\"Open In Colab\"/></a>"
      ]
    },
    {
      "cell_type": "code",
      "execution_count": null,
      "metadata": {
        "colab": {
          "base_uri": "https://localhost:8080/"
        },
        "id": "-UyhLwOakJtU",
        "outputId": "a70add94-5560-486e-8814-3ae666fe998d"
      },
      "outputs": [
        {
          "output_type": "stream",
          "name": "stdout",
          "text": [
            "244.92000000000002\n"
          ]
        }
      ],
      "source": [
        "pi = 3.14\n",
        "r = 3\n",
        "h = 10\n",
        "\n",
        "Area = 2 * pi * r * h + 2 * pi * r ** 2\n",
        "\n",
        "print(Area)"
      ]
    },
    {
      "cell_type": "markdown",
      "source": [],
      "metadata": {
        "id": "bwim_LgTk-iP"
      }
    },
    {
      "cell_type": "markdown",
      "source": [
        "### ***Input(), if, elif, and else***"
      ],
      "metadata": {
        "id": "X2t3ewbhvucq"
      }
    },
    {
      "cell_type": "code",
      "source": [
        "# Rock paper scissor game\n",
        "\n",
        "p1 = input('Please enter r (rock), p (paper), or s (scissor): ')\n",
        "p2 = input('Please enter r (rock), p (paper), or s (scissor): ')\n",
        "\n",
        "if p1 == p2:\n",
        "  print('draw')\n",
        "elif p1 == 'r' and p2 == 'p':\n",
        "  print('p2 won')\n",
        "elif p1 == 's' and p2 == 'r':\n",
        "  print('p2 won')\n",
        "elif p1 == 'p' and p2 == 's':\n",
        "  print('p2 won')\n",
        "else:\n",
        "  print('p1 won')"
      ],
      "metadata": {
        "colab": {
          "base_uri": "https://localhost:8080/"
        },
        "id": "1Q1-myiyscmh",
        "outputId": "e20d655a-216d-4e0a-c0b0-319bb4b266e4"
      },
      "execution_count": null,
      "outputs": [
        {
          "output_type": "stream",
          "name": "stdout",
          "text": [
            "Please enter r (rock), p (paper), or s (scissor): r\n",
            "Please enter r (rock), p (paper), or s (scissor): r\n",
            "draw\n"
          ]
        }
      ]
    },
    {
      "cell_type": "code",
      "source": [
        "# Rock paper scissor game\n",
        "\n",
        "p1 = input('Please enter r (rock), p (paper), or s (scissor): ')\n",
        "p2 = input('Please enter r (rock), p (paper), or s (scissor): ')\n",
        "\n",
        "if p1 == p2:\n",
        "  print('Please rematch')\n",
        "elif (\n",
        "    (p1 == 'r' and p2 == 's') or\n",
        "    (p1 == 'p' and p2 == 'r') or\n",
        "    (p1 == 's' and p2 == 'p')\n",
        " ):\n",
        " print('p1 wins!')\n",
        "else:\n",
        "  print('p2 wins!')"
      ],
      "metadata": {
        "colab": {
          "base_uri": "https://localhost:8080/"
        },
        "id": "EWaxoZh7uPij",
        "outputId": "aedfb371-b2dd-4be5-93c6-ab9d8bc0def6"
      },
      "execution_count": null,
      "outputs": [
        {
          "output_type": "stream",
          "name": "stdout",
          "text": [
            "Please enter r (rock), p (paper), or s (scissor): s\n",
            "Please enter r (rock), p (paper), or s (scissor): r\n",
            "p2 wins!\n"
          ]
        }
      ]
    },
    {
      "cell_type": "code",
      "source": [
        "n1 = float(input('Please enter a number: '))\n",
        "symbol = input('Please enter an operation (+, -, *, /, **): ')\n",
        "n2 = float(input('Please enter another number: '))\n",
        "\n",
        "if symbol == '+':\n",
        "  print(n1 + n2)\n",
        "elif symbol == '-':\n",
        "  print(n1 - n2)\n",
        "elif symbol == '*':\n",
        "  print(n1 * n2)\n",
        "elif symbol == '/':\n",
        "  print(n1 / n2)\n",
        "elif symbol == '**':\n",
        "  print(n1 ** n2)\n",
        "else:\n",
        "  print('There is an incorrect input')"
      ],
      "metadata": {
        "colab": {
          "base_uri": "https://localhost:8080/"
        },
        "id": "eaXKa7AVzMO7",
        "outputId": "a95d8fcb-ef05-47b5-c443-599676145245"
      },
      "execution_count": null,
      "outputs": [
        {
          "output_type": "stream",
          "name": "stdout",
          "text": [
            "Please enter a number: 5\n",
            "Please enter an operation (+, -, *, /, **): /\n",
            "Please enter another number: 5\n",
            "1.0\n"
          ]
        }
      ]
    },
    {
      "cell_type": "markdown",
      "source": [
        "### ***Different Types of Loops ***\n",
        "\n"
      ],
      "metadata": {
        "id": "5NSbvghTvqa-"
      }
    },
    {
      "cell_type": "code",
      "source": [
        "! pip install ColabTurtlePlus"
      ],
      "metadata": {
        "colab": {
          "base_uri": "https://localhost:8080/"
        },
        "id": "7uvTIbJG_TJ7",
        "outputId": "43622621-f40e-4bbb-ae86-533c9ba90e28"
      },
      "execution_count": null,
      "outputs": [
        {
          "output_type": "stream",
          "name": "stdout",
          "text": [
            "Collecting ColabTurtlePlus\n",
            "  Downloading ColabTurtlePlus-2.0.1-py3-none-any.whl.metadata (10 kB)\n",
            "Downloading ColabTurtlePlus-2.0.1-py3-none-any.whl (31 kB)\n",
            "Installing collected packages: ColabTurtlePlus\n",
            "Successfully installed ColabTurtlePlus-2.0.1\n"
          ]
        }
      ]
    },
    {
      "cell_type": "code",
      "source": [
        "from ColabTurtlePlus.Turtle import *\n",
        "\n",
        "clearscreen() #clearing the screen\n",
        "\n",
        "reset = True\n",
        "\n",
        "if reset:\n",
        "  clear()\n",
        "\n",
        "color('black', 'green')\n",
        "shape('blank')\n",
        "begin_fill()\n",
        "jumpto(0,0) #starting at point 0,0\n",
        "\n",
        "forward(100) #go right 100 points\n",
        "left(90) #tunr 90 degrees and keep going 100 points\n",
        "forward(100)\n",
        "left(90)\n",
        "forward(100)\n",
        "left(90)\n",
        "forward(100)\n",
        "left(90)\n",
        "end"
      ],
      "metadata": {
        "colab": {
          "base_uri": "https://localhost:8080/",
          "height": 777
        },
        "id": "gtUpQ4DezL89",
        "outputId": "5cc2f6f3-21b9-482f-a0af-d145beb0b549"
      },
      "execution_count": null,
      "outputs": [
        {
          "output_type": "display_data",
          "data": {
            "text/plain": [
              "<IPython.core.display.HTML object>"
            ],
            "text/html": [
              "\n",
              "      <svg width=\"800\" height=\"600\">  \n",
              "        <rect width=\"100%\" height=\"100%\" style=\"fill:white;stroke:;stroke-width:1\"/>\n",
              "        \n",
              "        \n",
              "        <line x1=\"400.0\" y1=\"300.0\" x2=\"500.0\" y2=\"300.0\" stroke-linecap=\"round\" style=\"stroke:black;stroke-width:1\" /><line x1=\"500.0\" y1=\"300.0\" x2=\"500.0\" y2=\"200.0\" stroke-linecap=\"round\" style=\"stroke:black;stroke-width:1\" /><line x1=\"500.0\" y1=\"200.0\" x2=\"400.0\" y2=\"200.0\" stroke-linecap=\"round\" style=\"stroke:black;stroke-width:1\" /><line x1=\"400.0\" y1=\"200.0\" x2=\"400.0\" y2=\"300.0\" stroke-linecap=\"round\" style=\"stroke:black;stroke-width:1\" />\n",
              "        \n",
              "        \n",
              "        \n",
              "      </svg>\n",
              "    "
            ]
          },
          "metadata": {}
        },
        {
          "output_type": "error",
          "ename": "NameError",
          "evalue": "name 'end' is not defined",
          "traceback": [
            "\u001b[0;31m---------------------------------------------------------------------------\u001b[0m",
            "\u001b[0;31mNameError\u001b[0m                                 Traceback (most recent call last)",
            "\u001b[0;32m<ipython-input-16-e19529b40001>\u001b[0m in \u001b[0;36m<cell line: 23>\u001b[0;34m()\u001b[0m\n\u001b[1;32m     21\u001b[0m \u001b[0mforward\u001b[0m\u001b[0;34m(\u001b[0m\u001b[0;36m100\u001b[0m\u001b[0;34m)\u001b[0m\u001b[0;34m\u001b[0m\u001b[0;34m\u001b[0m\u001b[0m\n\u001b[1;32m     22\u001b[0m \u001b[0mleft\u001b[0m\u001b[0;34m(\u001b[0m\u001b[0;36m90\u001b[0m\u001b[0;34m)\u001b[0m\u001b[0;34m\u001b[0m\u001b[0;34m\u001b[0m\u001b[0m\n\u001b[0;32m---> 23\u001b[0;31m \u001b[0mend\u001b[0m\u001b[0;34m\u001b[0m\u001b[0;34m\u001b[0m\u001b[0m\n\u001b[0m",
            "\u001b[0;31mNameError\u001b[0m: name 'end' is not defined"
          ]
        }
      ]
    },
    {
      "cell_type": "code",
      "source": [
        "from ColabTurtlePlus.Turtle import *\n",
        "\n",
        "clearscreen() #clearing the screen\n",
        "\n",
        "reset = True\n",
        "\n",
        "if reset:\n",
        "  clear()\n",
        "\n",
        "color('black', 'green')\n",
        "shape('blank')\n",
        "begin_fill()\n",
        "jumpto(0,0) #starting at point 0,0\n",
        "\n",
        "for i in range(4):\n",
        "  forward(100)\n",
        "  left(90)\n",
        "\n",
        "end"
      ],
      "metadata": {
        "id": "51eYTaMmzLW_"
      },
      "execution_count": null,
      "outputs": []
    },
    {
      "cell_type": "code",
      "source": [
        "for i in range(1,11,2):\n",
        "  print(i, end = \" \")"
      ],
      "metadata": {
        "colab": {
          "base_uri": "https://localhost:8080/"
        },
        "id": "aqw5Hel4qHBj",
        "outputId": "aaf05493-d0b6-46f7-96d8-46b0283de017"
      },
      "execution_count": null,
      "outputs": [
        {
          "output_type": "stream",
          "name": "stdout",
          "text": [
            "1 3 5 7 9 "
          ]
        }
      ]
    },
    {
      "cell_type": "code",
      "source": [
        "i = 1 # initialize the variable i\n",
        "\n",
        "while i < 10: # Boolean condition comparing the variable i and the constant 10\n",
        "  print(i, end = ' ')\n",
        "  i = i + 2 # update the variable i"
      ],
      "metadata": {
        "colab": {
          "base_uri": "https://localhost:8080/"
        },
        "id": "zCEpzHvBu4pO",
        "outputId": "0e93ab27-acac-4404-e352-c3f6936ef234"
      },
      "execution_count": null,
      "outputs": [
        {
          "output_type": "stream",
          "name": "stdout",
          "text": [
            "1 3 5 7 9 "
          ]
        }
      ]
    },
    {
      "cell_type": "code",
      "source": [
        "customer_type = input('existing or new: ')\n",
        "\n",
        "while customer_type == 'existing':\n",
        "  print('...')\n",
        "  customer_type = input('existing or new: ')"
      ],
      "metadata": {
        "colab": {
          "base_uri": "https://localhost:8080/"
        },
        "id": "6l-3lH2lxynT",
        "outputId": "8cf617c3-cd4d-416e-d84a-47ecc60e2071"
      },
      "execution_count": null,
      "outputs": [
        {
          "name": "stdout",
          "output_type": "stream",
          "text": [
            "existing or new: existing\n",
            "...\n",
            "existing or new: existing\n",
            "...\n",
            "existing or new: existing\n",
            "...\n",
            "existing or new: new\n"
          ]
        }
      ]
    },
    {
      "cell_type": "markdown",
      "source": [
        "***Rock paper scissors game ***"
      ],
      "metadata": {
        "id": "d9lcosFOylWh"
      }
    },
    {
      "cell_type": "code",
      "source": [
        "play = input('Do you want to play rock paper scossor? (y/n) ')\n",
        "\n",
        "while play == 'y':\n",
        "  p1 = input('Please enter r (rock), p (paper), or s (scissor): ')\n",
        "  p2 = input('Please enter r (rock), p (paper), or s (scissor): ')\n",
        "  if p1 == p2:\n",
        "    print('draw')\n",
        "  elif p1 == 'r' and p2 == 'p':\n",
        "    print('p2 won')\n",
        "  elif p1 == 's' and p2 == 'r':\n",
        "    print('p2 won')\n",
        "  elif p1 == 'p' and p2 == 's':\n",
        "    print('p2 won')\n",
        "  else:\n",
        "    print('p1 won')\n",
        "  play = input('Do you want to play rock paper scossor again? (y/n) ')"
      ],
      "metadata": {
        "colab": {
          "base_uri": "https://localhost:8080/"
        },
        "id": "ooQsivN4ykO7",
        "outputId": "fd6d6c36-9ed0-4ce3-f44a-472713ca187a"
      },
      "execution_count": null,
      "outputs": [
        {
          "name": "stdout",
          "output_type": "stream",
          "text": [
            "Do you want to play rock paper scossor? (y/n) y\n",
            "Please enter r (rock), p (paper), or s (scissor): r\n",
            "Please enter r (rock), p (paper), or s (scissor): s\n",
            "p1 won\n",
            "Do you want to play rock paper scossor again? (y/n) y\n",
            "Please enter r (rock), p (paper), or s (scissor): s\n",
            "Please enter r (rock), p (paper), or s (scissor): p\n",
            "p1 won\n",
            "Do you want to play rock paper scossor again? (y/n) y\n",
            "Please enter r (rock), p (paper), or s (scissor): r\n",
            "Please enter r (rock), p (paper), or s (scissor): r\n",
            "draw\n",
            "Do you want to play rock paper scossor again? (y/n) y\n",
            "Please enter r (rock), p (paper), or s (scissor): r\n",
            "Please enter r (rock), p (paper), or s (scissor): p\n",
            "p2 won\n",
            "Do you want to play rock paper scossor again? (y/n) n\n"
          ]
        }
      ]
    },
    {
      "cell_type": "code",
      "source": [
        "# Parking garage -- Initial Problem\n",
        "# $5 flatfee and $2.5 for each hour parked\n",
        "flat_rate = 5\n",
        "hourly_rate = 2.5\n",
        "\n",
        "for hour in range(1,9):\n",
        "  charge = hourly_rate * hour + flat_rate\n",
        "  if charge < 10:\n",
        "    charge = 10\n",
        "  elif charge > 20:\n",
        "    charge = 20\n",
        "  print(hour, charge)\n",
        "\n",
        "\n"
      ],
      "metadata": {
        "colab": {
          "base_uri": "https://localhost:8080/"
        },
        "id": "exdi3Dfu85G_",
        "outputId": "a1d0920c-b5c1-4642-9280-c991b62e45bd"
      },
      "execution_count": null,
      "outputs": [
        {
          "output_type": "stream",
          "name": "stdout",
          "text": [
            "1 10\n",
            "2 10.0\n",
            "3 12.5\n",
            "4 15.0\n",
            "5 17.5\n",
            "6 20.0\n",
            "7 20\n",
            "8 20\n"
          ]
        }
      ]
    },
    {
      "cell_type": "code",
      "source": [
        "# Movie Theater -- Initial Problem\n",
        "\n",
        "ticket = 10\n",
        "fixed_costs = 200\n",
        "original_attendees = 20\n",
        "\n",
        "for ads_dollar in range(0,201,25):\n",
        "  additional_attendees = round(2 * (ads_dollar ** 0.5))\n",
        "  profit = (original_attendees + additional_attendees) * ticket - ads_dollar - fixed_costs\n",
        "  print(ads_dollar, profit)\n"
      ],
      "metadata": {
        "colab": {
          "base_uri": "https://localhost:8080/"
        },
        "id": "WPi75AFkDMvj",
        "outputId": "f38e7728-f146-47a5-9fa6-257e04b351bb"
      },
      "execution_count": null,
      "outputs": [
        {
          "output_type": "stream",
          "name": "stdout",
          "text": [
            "0 0\n",
            "25 75\n",
            "50 90\n",
            "75 95\n",
            "100 100\n",
            "125 95\n",
            "150 90\n",
            "175 85\n",
            "200 80\n"
          ]
        }
      ]
    },
    {
      "cell_type": "code",
      "source": [
        "i = 0\n",
        "\n",
        "while True:\n",
        "  i = i + 1\n",
        "  if i == 10:\n",
        "    break\n",
        "  print(i, end = ' ')\n",
        "\n",
        "print('Done')"
      ],
      "metadata": {
        "colab": {
          "base_uri": "https://localhost:8080/"
        },
        "id": "NQ6HgrAvLsmI",
        "outputId": "bc2983cc-2eb4-43f3-d4d2-bc0b0e3e591a"
      },
      "execution_count": null,
      "outputs": [
        {
          "output_type": "stream",
          "name": "stdout",
          "text": [
            "1 2 3 4 5 6 7 8 9 Done\n"
          ]
        }
      ]
    },
    {
      "cell_type": "code",
      "source": [
        "l = []\n",
        "item = int(input('Give a value: ')) # By default, input is a string\n",
        "\n",
        "while item != 0:\n",
        "  l.append(item)\n",
        "  item = int(input('Give another value: '))\n",
        "print(l)"
      ],
      "metadata": {
        "colab": {
          "base_uri": "https://localhost:8080/"
        },
        "id": "LEnbsUKAI_zd",
        "outputId": "d7e44625-247a-444a-a4ff-4fe8eef02bfb"
      },
      "execution_count": null,
      "outputs": [
        {
          "output_type": "stream",
          "name": "stdout",
          "text": [
            "Give a value: 8\n",
            "Give another value: 0\n",
            "[8]\n"
          ]
        }
      ]
    },
    {
      "cell_type": "code",
      "source": [
        "months = {}\n",
        "\n",
        "names = ['Jan', 'Feb', 'Mar', 'Apr', 'May', 'Jun', 'July', 'Aug', 'Sep', 'Oct', 'Nov', 'Dec']\n",
        "number = [1,2,3,4,5,6,7,8,9,10,11,12]\n",
        "\n",
        "for idx in number:\n",
        "  months[idx] = names[idx - 1]\n",
        "    # Month 1 = names 0 which is Jan\n",
        "print(months)"
      ],
      "metadata": {
        "colab": {
          "base_uri": "https://localhost:8080/"
        },
        "id": "OZj8ldgP40jJ",
        "outputId": "4f62df4a-1d3e-4eac-cb97-def847d2625b"
      },
      "execution_count": null,
      "outputs": [
        {
          "output_type": "stream",
          "name": "stdout",
          "text": [
            "{1: 'Jan', 2: 'Feb', 3: 'Mar', 4: 'Apr', 5: 'May', 6: 'Jun', 7: 'July', 8: 'Aug', 9: 'Sep', 10: 'Oct', 11: 'Nov', 12: 'Dec'}\n"
          ]
        }
      ]
    },
    {
      "cell_type": "code",
      "source": [
        "def calfee(hours):\n",
        "  fee = 5 + 2.5 * hours\n",
        "  return fee\n",
        "\n",
        "hours_parked = int(input('Enter hours parked: '))\n",
        "parking_fee = calfee(hours_parked)\n",
        "\n",
        "print(f'Parking fee: ${parking_fee}')"
      ],
      "metadata": {
        "colab": {
          "base_uri": "https://localhost:8080/"
        },
        "id": "foejFupS9ibR",
        "outputId": "f4eb11c2-bf14-4a31-e6de-a935c4af35f7"
      },
      "execution_count": null,
      "outputs": [
        {
          "output_type": "stream",
          "name": "stdout",
          "text": [
            "Enter hours parked: 4\n",
            "Parking fee: $15.0\n"
          ]
        }
      ]
    },
    {
      "cell_type": "code",
      "source": [
        "def calcfee(hours, decimals = 2):\n",
        "  fee = 5 + 2.5 * hours\n",
        "  fee = round(fee, decimals)\n",
        "  return fee\n",
        "\n",
        "def displayfee(fee):\n",
        "  print(fee)\n",
        "\n",
        "h = int(input('Enter hours parked: '))\n",
        "parking_fee = calcfee(h)\n",
        "displayfee(parking_fee)"
      ],
      "metadata": {
        "colab": {
          "base_uri": "https://localhost:8080/"
        },
        "id": "egttWbCKB-n5",
        "outputId": "de333978-ef5a-4391-d8f1-81e25c2b0998"
      },
      "execution_count": null,
      "outputs": [
        {
          "output_type": "stream",
          "name": "stdout",
          "text": [
            "Enter hours parked: 4\n",
            "15.0\n"
          ]
        }
      ]
    },
    {
      "cell_type": "code",
      "source": [
        "def reverse(s):\n",
        "  if len(s) == 1:\n",
        "    return s\n",
        "  else:\n",
        "    return s[-1] + reverse(s[1:-1]) + s[0]\n",
        "    #return reverse(s[1:]) + s[0]\n",
        "\n",
        "string = 'hello'\n",
        "reverse(string)"
      ],
      "metadata": {
        "colab": {
          "base_uri": "https://localhost:8080/",
          "height": 35
        },
        "id": "wJLUzgMzHSX6",
        "outputId": "00067cda-7b30-49f0-bc71-70445f789891"
      },
      "execution_count": null,
      "outputs": [
        {
          "output_type": "execute_result",
          "data": {
            "text/plain": [
              "'olleh'"
            ],
            "application/vnd.google.colaboratory.intrinsic+json": {
              "type": "string"
            }
          },
          "metadata": {},
          "execution_count": 1
        }
      ]
    },
    {
      "cell_type": "code",
      "source": [
        "'''\n",
        "  Function that calculates the weighted average of a list L, given weights W\n",
        "  The function should handle the following exception error types:\n",
        "  1. ZeroDivisionError\n",
        "  2. TypeError\n",
        "  3. any other known error\n",
        "'''\n",
        "def wAvg(L,w):\n",
        "  try:\n",
        "    if len(L) == len(w):\n",
        "      res = []\n",
        "      for i in range(len(w)):\n",
        "        res.append(L[i]*w[i])\n",
        "      return sum(res) / sum(w)\n",
        "  except ZeroDivisionError:\n",
        "    return []\n",
        "  except TypeError:\n",
        "    return []\n",
        "  except:\n",
        "    float('nan')\n",
        "\n",
        "\n",
        "li = [1,2,3]\n",
        "weight = [0.1,0.3,0.4]\n",
        "\n",
        "wAvg(li, weight)"
      ],
      "metadata": {
        "colab": {
          "base_uri": "https://localhost:8080/"
        },
        "id": "8TS-9TXWgYoH",
        "outputId": "31fd6aae-e7b3-4e3d-981b-934688e79e9b"
      },
      "execution_count": null,
      "outputs": [
        {
          "output_type": "execute_result",
          "data": {
            "text/plain": [
              "2.375"
            ]
          },
          "metadata": {},
          "execution_count": 10
        }
      ]
    },
    {
      "cell_type": "code",
      "source": [
        "class Car:\n",
        "  def __init__(self, n_doors, allwd, make, year, hp): #the first parameter is always self\n",
        "    self.n_doors = n_doors #always start with this\n",
        "    self.allwd = allwd\n",
        "    self.make = make\n",
        "    self.year = year\n",
        "    self.n_wheels = 4\n",
        "    self.engine_running = False\n",
        "    self.current_speed = 0\n",
        "    self.hp = hp\n",
        "\n",
        "  def start_engine(self): #always need the self parameters\n",
        "    self.engine_running = True\n",
        "    print(\"Engine started\")\n",
        "\n",
        "  def accelerate(self, new_speed):\n",
        "    if self.engine_running == True:\n",
        "      self.current_speed = self.current_speed + new_speed\n",
        "      print(self.current_speed)\n",
        "    else:\n",
        "      print('Start enginee first.')\n",
        "\n",
        "  def brake(self, speed_decrease):\n",
        "    self.current_speed = max(0,self.current_speed - speed_decrease)\n",
        "\n",
        "  def describe(self):\n",
        "    print(f'Make: {self.make}')\n",
        "    print(f'Year: {self.year}')\n",
        "\n",
        "  def __str__(self): #return a string of what u want to see from this CLASS (The same as __repr__(self))\n",
        "    return f'Car instance; Make: {self.make}; Year: {self.year}'\n",
        "\n",
        "  def __lt__(self, other): #lt stands for less than (<)\n",
        "    return self.hp < other.hp\n",
        "\n",
        "  def __add__(self, other):\n",
        "    return self.hp + other.hp\n"
      ],
      "metadata": {
        "id": "7lW7KIaitjsa"
      },
      "execution_count": null,
      "outputs": []
    },
    {
      "cell_type": "code",
      "source": [
        "c = Car(4, False, 'Chevrolet', 2023, 150)\n",
        "\n",
        "d = Car(4, True, 'Dodge', 2022, 300)"
      ],
      "metadata": {
        "id": "1vaxw7TxoO5h"
      },
      "execution_count": null,
      "outputs": []
    },
    {
      "cell_type": "code",
      "source": [
        "c + d"
      ],
      "metadata": {
        "colab": {
          "base_uri": "https://localhost:8080/"
        },
        "id": "7UpIiq8lldrW",
        "outputId": "4a1374e4-8cac-483a-ac0d-b912122809c6"
      },
      "execution_count": null,
      "outputs": [
        {
          "output_type": "execute_result",
          "data": {
            "text/plain": [
              "450"
            ]
          },
          "metadata": {},
          "execution_count": 13
        }
      ]
    },
    {
      "cell_type": "code",
      "source": [
        "c.describe()"
      ],
      "metadata": {
        "colab": {
          "base_uri": "https://localhost:8080/"
        },
        "id": "i0Pnn07NWNza",
        "outputId": "1cc37a63-e170-45d5-ba2f-11b6bdf7391a"
      },
      "execution_count": null,
      "outputs": [
        {
          "output_type": "stream",
          "name": "stdout",
          "text": [
            "Make: Chevrolet\n",
            "Year: 2023\n"
          ]
        }
      ]
    },
    {
      "cell_type": "code",
      "source": [
        "c.start_engine()"
      ],
      "metadata": {
        "colab": {
          "base_uri": "https://localhost:8080/"
        },
        "id": "eLLKaY8zXpme",
        "outputId": "1fdbdc40-17dc-431a-ece4-cb9756ab8c36"
      },
      "execution_count": null,
      "outputs": [
        {
          "output_type": "stream",
          "name": "stdout",
          "text": [
            "Engine started\n"
          ]
        }
      ]
    },
    {
      "cell_type": "code",
      "source": [
        "c.accelerate(50)"
      ],
      "metadata": {
        "colab": {
          "base_uri": "https://localhost:8080/"
        },
        "id": "evk94m7oYaVj",
        "outputId": "6635f48f-6b0a-4651-ebc0-921d1d7be62d"
      },
      "execution_count": null,
      "outputs": [
        {
          "output_type": "stream",
          "name": "stdout",
          "text": [
            "50\n"
          ]
        }
      ]
    },
    {
      "cell_type": "code",
      "source": [
        "print(c)"
      ],
      "metadata": {
        "colab": {
          "base_uri": "https://localhost:8080/"
        },
        "id": "A54Uk0nhcnws",
        "outputId": "bb51d1d4-7803-4aeb-82d2-01edba498aa6"
      },
      "execution_count": null,
      "outputs": [
        {
          "output_type": "stream",
          "name": "stdout",
          "text": [
            "Car instance; Make: Chevrolet; Year: 2023\n"
          ]
        }
      ]
    },
    {
      "cell_type": "code",
      "source": [
        "class Student:\n",
        "  def __init__(self, name, number):\n",
        "    self.name = name\n",
        "    self.number = number\n",
        "    self.__courses = []\n",
        "\n",
        "  def set_name(self, new_name):\n",
        "    self.name = new_name\n",
        "\n",
        "  def get_name(self):\n",
        "    return self.name\n",
        "\n",
        "  def enroll(self, lectures):\n",
        "    if lectures not in self.__courses: #__makes courses private and can only be accessed through enroll and get_courese methods\n",
        "      self.__courses.append(lectures)\n",
        "    else:\n",
        "      print(f'you have already enrolled in {lectures}')\n",
        "\n",
        "\n",
        "  def get_courses(self):\n",
        "    return self.__courses\n",
        "\n",
        "\n",
        "  def __repr__(self):\n",
        "    return f'Name: {self.name}'"
      ],
      "metadata": {
        "id": "SBlBd6l_ZDh4"
      },
      "execution_count": null,
      "outputs": []
    },
    {
      "cell_type": "code",
      "source": [
        "s1 = Student('James Bond', '007')\n",
        "s2 = Student('Clark Kent', '333')\n"
      ],
      "metadata": {
        "id": "IFk0rzSvaYHe"
      },
      "execution_count": null,
      "outputs": []
    },
    {
      "cell_type": "code",
      "source": [
        "s1.enroll('ABC789')\n",
        "\n",
        "\n"
      ],
      "metadata": {
        "id": "CEKDljYivqhO"
      },
      "execution_count": null,
      "outputs": []
    },
    {
      "cell_type": "code",
      "source": [
        "s1.get_courses()"
      ],
      "metadata": {
        "colab": {
          "base_uri": "https://localhost:8080/"
        },
        "id": "iEeOIwBQx_45",
        "outputId": "3ede266e-1fca-4047-c750-e0908b73ac7c"
      },
      "execution_count": null,
      "outputs": [
        {
          "output_type": "execute_result",
          "data": {
            "text/plain": [
              "['ABC123', 'ABC456', 'ABC789']"
            ]
          },
          "metadata": {},
          "execution_count": 74
        }
      ]
    },
    {
      "cell_type": "code",
      "source": [
        "s1.name = 'Bob'\n",
        "s1.name"
      ],
      "metadata": {
        "colab": {
          "base_uri": "https://localhost:8080/",
          "height": 35
        },
        "id": "XX9CFAimpqyH",
        "outputId": "f30a916c-0a4b-49ab-ad8c-8f697541a742"
      },
      "execution_count": null,
      "outputs": [
        {
          "output_type": "execute_result",
          "data": {
            "text/plain": [
              "'Bob'"
            ],
            "application/vnd.google.colaboratory.intrinsic+json": {
              "type": "string"
            }
          },
          "metadata": {},
          "execution_count": 17
        }
      ]
    },
    {
      "cell_type": "code",
      "source": [
        "s2.set_name('John')\n",
        "s2.get_name()"
      ],
      "metadata": {
        "colab": {
          "base_uri": "https://localhost:8080/",
          "height": 35
        },
        "id": "20gDlNADrHkS",
        "outputId": "ba82a14f-b66f-4e29-aa86-f94a159e45a5"
      },
      "execution_count": null,
      "outputs": [
        {
          "output_type": "execute_result",
          "data": {
            "text/plain": [
              "'John'"
            ],
            "application/vnd.google.colaboratory.intrinsic+json": {
              "type": "string"
            }
          },
          "metadata": {},
          "execution_count": 23
        }
      ]
    },
    {
      "cell_type": "code",
      "source": [
        "s2.get_name()"
      ],
      "metadata": {
        "colab": {
          "base_uri": "https://localhost:8080/",
          "height": 35
        },
        "id": "dkTU6KRiq_GP",
        "outputId": "135e5582-686f-46af-85ed-ebc66cd510dd"
      },
      "execution_count": null,
      "outputs": [
        {
          "output_type": "execute_result",
          "data": {
            "text/plain": [
              "'Clark Kent'"
            ],
            "application/vnd.google.colaboratory.intrinsic+json": {
              "type": "string"
            }
          },
          "metadata": {},
          "execution_count": 22
        }
      ]
    },
    {
      "cell_type": "code",
      "source": [
        "class Student:\n",
        "  def __init__(self, name, number):\n",
        "    self.name = name\n",
        "    self.number = number\n",
        "    self.__courses = []\n",
        "\n",
        "  def set_name(self, new_name):\n",
        "    self.name = new_name\n",
        "\n",
        "  def get_name(self):\n",
        "    return self.name\n",
        "\n",
        "  def enroll(self, lectures):\n",
        "    if lectures not in self.__courses: #__makes courses private and can only be accessed through enroll and get_courese methods\n",
        "      self.__courses.append(lectures)\n",
        "    else:\n",
        "      print(f'you have already enrolled in {lectures}')\n",
        "\n",
        "\n",
        "  def get_courses(self):\n",
        "    return self.__courses\n",
        "\n",
        "\n",
        "  def __repr__(self):\n",
        "    return f'Name: {self.name}'\n",
        "\n",
        "\n",
        "class GradStudent(Student):\n",
        "  def __init__(self, name, number, stipend):\n",
        "    super().__int__(name, number) #??\n",
        "    self.stipend = stipend"
      ],
      "metadata": {
        "id": "1UZIxY1OIseA"
      },
      "execution_count": null,
      "outputs": []
    }
  ]
}